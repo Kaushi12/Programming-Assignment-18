{
 "cells": [
  {
   "cell_type": "code",
   "execution_count": 21,
   "id": "d1b1b41e",
   "metadata": {},
   "outputs": [],
   "source": [
    "#Ques 1\n",
    "def filtered_list(lst1):\n",
    "    new_list = []\n",
    "    for x in lst1:\n",
    "        if type(x) == int:\n",
    "            new_list.append(x)\n",
    "    return new_list"
   ]
  },
  {
   "cell_type": "code",
   "execution_count": 22,
   "id": "252f1e1e",
   "metadata": {},
   "outputs": [
    {
     "data": {
      "text/plain": [
       "[1, 2]"
      ]
     },
     "execution_count": 22,
     "metadata": {},
     "output_type": "execute_result"
    }
   ],
   "source": [
    "lst1=['a','b',1,2]\n",
    "filtered_list(lst1)"
   ]
  },
  {
   "cell_type": "code",
   "execution_count": 28,
   "id": "9f3180d2",
   "metadata": {},
   "outputs": [],
   "source": [
    "#Ques 2\n",
    "def reverser(s):\n",
    "    s1=s[::-1]\n",
    "    s1=s1.swapcase()\n",
    "    return s1"
   ]
  },
  {
   "cell_type": "code",
   "execution_count": 29,
   "id": "dceca870",
   "metadata": {},
   "outputs": [
    {
     "data": {
      "text/plain": [
       "'dlROW oLLeH'"
      ]
     },
     "execution_count": 29,
     "metadata": {},
     "output_type": "execute_result"
    }
   ],
   "source": [
    "reverser(\"hEllO worLD\")"
   ]
  },
  {
   "cell_type": "code",
   "execution_count": 1,
   "id": "3de3ee57",
   "metadata": {},
   "outputs": [],
   "source": [
    "#Ques 4\n",
    "def recur_factorial(n):  \n",
    "    if n == 1:  \n",
    "        return n  \n",
    "    else:  \n",
    "        return n*recur_factorial(n-1) "
   ]
  },
  {
   "cell_type": "code",
   "execution_count": 4,
   "id": "3936d56b",
   "metadata": {},
   "outputs": [
    {
     "data": {
      "text/plain": [
       "720"
      ]
     },
     "execution_count": 4,
     "metadata": {},
     "output_type": "execute_result"
    }
   ],
   "source": [
    "recur_factorial(6)"
   ]
  },
  {
   "cell_type": "code",
   "execution_count": 9,
   "id": "66e6411e",
   "metadata": {},
   "outputs": [],
   "source": [
    "#Ques 5\n",
    "def move_to_end(l,x):\n",
    "    for i in l:\n",
    "        if i==x:\n",
    "            l.remove(x)\n",
    "            l.append(x)\n",
    "    return l\n",
    "    "
   ]
  },
  {
   "cell_type": "code",
   "execution_count": 11,
   "id": "11ae7466",
   "metadata": {},
   "outputs": [
    {
     "data": {
      "text/plain": [
       "[3, 4, 2, 4, 1, 1]"
      ]
     },
     "execution_count": 11,
     "metadata": {},
     "output_type": "execute_result"
    }
   ],
   "source": [
    "move_to_end([1,3,4,2,1,4],1)"
   ]
  },
  {
   "cell_type": "code",
   "execution_count": null,
   "id": "bee0d97d",
   "metadata": {},
   "outputs": [],
   "source": []
  }
 ],
 "metadata": {
  "kernelspec": {
   "display_name": "Python 3",
   "language": "python",
   "name": "python3"
  },
  "language_info": {
   "codemirror_mode": {
    "name": "ipython",
    "version": 3
   },
   "file_extension": ".py",
   "mimetype": "text/x-python",
   "name": "python",
   "nbconvert_exporter": "python",
   "pygments_lexer": "ipython3",
   "version": "3.8.8"
  }
 },
 "nbformat": 4,
 "nbformat_minor": 5
}
